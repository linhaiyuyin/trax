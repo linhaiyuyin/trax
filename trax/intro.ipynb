{
  "cells": [
    {
      "cell_type": "markdown",
      "metadata": {
        "id": "7yuytuIllsv1"
      },
      "source": [
        "# Trax Quick Intro\n",
        "\n",
        "[Trax](https://trax-ml.readthedocs.io/en/latest/) is an end-to-end library for deep learning that focuses on clear code and speed. It is actively used and maintained in the [Google Brain team](https://research.google.com/teams/brain/). This notebook ([run it in colab](https://colab.research.google.com/github/google/trax/blob/master/trax/intro.ipynb)) shows how to use Trax and where you can find more information.\n",
        "\n",
        "  1. **Run a pre-trained Transformer**: create a translator in a few lines of code\n",
        "  1. **Features and resources**: [API docs](https://trax-ml.readthedocs.io/en/latest/trax.html), where to [talk to us](https://gitter.im/trax-ml/community), how to [open an issue](https://github.com/google/trax/issues) and more\n",
        "  1. **Walkthrough**: how Trax works, how to make new models and train on your own data\n",
        "\n",
        "We welcome **contributions** to Trax! We welcome PRs with code for new models and layers as well as improvements to our code and documentation. We especially love **notebooks** that explain how models work and show how to use them to solve problems!\n",
        "\n",
        "\n"
      ]
    },
    {
      "cell_type": "markdown",
      "metadata": {
        "id": "BIl27504La0G"
      },
      "source": [
        "**General Setup**\n",
        "\n",
        "Execute the following few cells (once) before running any of the code samples."
      ]
    },
    {
      "cell_type": "code",
      "execution_count": 1,
      "metadata": {
        "id": "oILRLCWN_16u"
      },
      "outputs": [],
      "source": [
        "#@title\n",
        "# Copyright 2020 Google LLC.\n",
        "\n",
        "# Licensed under the Apache License, Version 2.0 (the \"License\");\n",
        "# you may not use this file except in compliance with the License.\n",
        "# You may obtain a copy of the License at\n",
        "\n",
        "# https://www.apache.org/licenses/LICENSE-2.0\n",
        "\n",
        "# Unless required by applicable law or agreed to in writing, software\n",
        "# distributed under the License is distributed on an \"AS IS\" BASIS,\n",
        "# WITHOUT WARRANTIES OR CONDITIONS OF ANY KIND, either express or implied.\n",
        "# See the License for the specific language governing permissions and\n",
        "# limitations under the License.\n",
        "\n",
        "import os\n",
        "import numpy as np\n",
        "\n",
        "\n"
      ]
    },
    {
      "cell_type": "code",
      "execution_count": 2,
      "metadata": {
        "id": "vlGjGoGMTt-D",
        "outputId": "3f42bc66-a78d-4a83-b26c-7053577c3a0c",
        "colab": {
          "base_uri": "https://localhost:8080/"
        }
      },
      "outputs": [
        {
          "output_type": "stream",
          "name": "stdout",
          "text": [
            "\u001b[?25l   \u001b[90m━━━━━━━━━━━━━━━━━━━━━━━━━━━━━━━━━━━━━━━━\u001b[0m \u001b[32m0.0/637.9 kB\u001b[0m \u001b[31m?\u001b[0m eta \u001b[36m-:--:--\u001b[0m\r\u001b[2K   \u001b[91m━━━━━━━━━━━━━━━━━━━━━━━━━━━━━━━━━━━━━━━\u001b[0m\u001b[91m╸\u001b[0m \u001b[32m634.9/637.9 kB\u001b[0m \u001b[31m24.5 MB/s\u001b[0m eta \u001b[36m0:00:01\u001b[0m\r\u001b[2K   \u001b[90m━━━━━━━━━━━━━━━━━━━━━━━━━━━━━━━━━━━━━━━━\u001b[0m \u001b[32m637.9/637.9 kB\u001b[0m \u001b[31m14.6 MB/s\u001b[0m eta \u001b[36m0:00:00\u001b[0m\n",
            "\u001b[?25h"
          ]
        },
        {
          "output_type": "stream",
          "name": "stderr",
          "text": [
            "Gym has been unmaintained since 2022 and does not support NumPy 2.0 amongst other critical functionality.\n",
            "Please upgrade to Gymnasium, the maintained drop-in replacement of Gym, or contact the authors of your software and request that they upgrade.\n",
            "See the migration guide at https://gymnasium.farama.org/introduction/migration_guide/ for additional information.\n",
            "/usr/local/lib/python3.12/dist-packages/jupyter_client/session.py:203: DeprecationWarning: datetime.datetime.utcnow() is deprecated and scheduled for removal in a future version. Use timezone-aware objects to represent datetimes in UTC: datetime.datetime.now(datetime.UTC).\n",
            "  return datetime.utcnow().replace(tzinfo=utc)\n"
          ]
        }
      ],
      "source": [
        "#@title\n",
        "# Import Trax\n",
        "\n",
        "!pip install -q -U trax\n",
        "import trax\n"
      ]
    },
    {
      "cell_type": "markdown",
      "metadata": {
        "id": "-LQ89rFFsEdk"
      },
      "source": [
        "## 1. Run a pre-trained Transformer\n",
        "\n",
        "Here is how you create an Engligh-German translator in a few lines of code:\n",
        "\n",
        "* create a Transformer model in Trax with [trax.models.Transformer](https://trax-ml.readthedocs.io/en/latest/trax.models.html#trax.models.transformer.Transformer)\n",
        "* initialize it from a file with pre-trained weights with [model.init_from_file](https://trax-ml.readthedocs.io/en/latest/trax.layers.html#trax.layers.base.Layer.init_from_file)\n",
        "* tokenize your input sentence to input into the model with [trax.data.tokenize](https://trax-ml.readthedocs.io/en/latest/trax.data.html#trax.data.tf_inputs.tokenize)\n",
        "* decode from the Transformer with [trax.supervised.decoding.autoregressive_sample](https://trax-ml.readthedocs.io/en/latest/trax.supervised.html#trax.supervised.decoding.autoregressive_sample)\n",
        "* de-tokenize the decoded result to get the translation with [trax.data.detokenize](https://trax-ml.readthedocs.io/en/latest/trax.data.html#trax.data.tf_inputs.detokenize)\n"
      ]
    },
    {
      "cell_type": "code",
      "execution_count": 3,
      "metadata": {
        "id": "djTiSLcaNFGa",
        "outputId": "e7805f22-6c5a-42b9-f1cf-02e174796ec9",
        "colab": {
          "base_uri": "https://localhost:8080/"
        }
      },
      "outputs": [
        {
          "output_type": "stream",
          "name": "stdout",
          "text": [
            "Es ist schön, heute neue Dinge zu lernen!\n"
          ]
        }
      ],
      "source": [
        "\n",
        "# Create a Transformer model.\n",
        "# Pre-trained model config in gs://trax-ml/models/translation/ende_wmt32k.gin\n",
        "model = trax.models.Transformer(\n",
        "    input_vocab_size=33300,\n",
        "    d_model=512, d_ff=2048,\n",
        "    n_heads=8, n_encoder_layers=6, n_decoder_layers=6,\n",
        "    max_len=2048, mode='predict')\n",
        "\n",
        "# Initialize using pre-trained weights.\n",
        "model.init_from_file('gs://trax-ml/models/translation/ende_wmt32k.pkl.gz',\n",
        "                     weights_only=True)\n",
        "\n",
        "# Tokenize a sentence.\n",
        "sentence = 'It is nice to learn new things today!'\n",
        "tokenized = list(trax.data.tokenize(iter([sentence]),  # Operates on streams.\n",
        "                                    vocab_dir='gs://trax-ml/vocabs/',\n",
        "                                    vocab_file='ende_32k.subword'))[0]\n",
        "\n",
        "# Decode from the Transformer.\n",
        "tokenized = tokenized[None, :]  # Add batch dimension.\n",
        "tokenized_translation = trax.supervised.decoding.autoregressive_sample(\n",
        "    model, tokenized, temperature=0.0)  # Higher temperature: more diverse results.\n",
        "\n",
        "# De-tokenize,\n",
        "tokenized_translation = tokenized_translation[0][:-1]  # Remove batch and EOS.\n",
        "translation = trax.data.detokenize(tokenized_translation,\n",
        "                                   vocab_dir='gs://trax-ml/vocabs/',\n",
        "                                   vocab_file='ende_32k.subword')\n",
        "print(translation)"
      ]
    },
    {
      "cell_type": "code",
      "source": [
        "import matplotlib.pyplot as plt\n",
        "from IPython import display  # 用于设置SVG显示（若在Jupyter环境）\n",
        "\n",
        "def show_heatmaps(matrices, xlabel, ylabel, titles=None, figsize=(2.5, 2.5),\n",
        "                  cmap='Reds', xticks=None, yticks=None):\n",
        "    \"\"\"显示矩阵热图（使用matplotlib替代d2l库）\"\"\"\n",
        "    # 设置SVG显示格式（适合高清显示和Jupyter环境）\n",
        "    display.set_matplotlib_formats('svg')\n",
        "    plt.rcParams['svg.fonttype'] = 'none'  # 确保SVG中的文字可编辑\n",
        "\n",
        "    # 获取子图网格的行数和列数\n",
        "    num_rows, num_cols = matrices.shape[0], matrices.shape[1]\n",
        "\n",
        "    # 创建子图网格\n",
        "    fig, axes = plt.subplots(\n",
        "        num_rows, num_cols,\n",
        "        figsize=figsize,\n",
        "        sharex=True,  # 共享x轴刻度\n",
        "        sharey=True,  # 共享y轴刻度\n",
        "        squeeze=False  # 确保axes始终为二维数组\n",
        "    )\n",
        "\n",
        "    # 遍历每个子图并绘制热图\n",
        "    for i, (row_axes, row_matrices) in enumerate(zip(axes, matrices)):\n",
        "        for j, (ax, matrix) in enumerate(zip(row_axes, row_matrices)):\n",
        "            # 将TensorFlow张量转换为numpy数组并绘制\n",
        "            pcm = ax.imshow(matrix.numpy(), cmap=cmap)\n",
        "\n",
        "            # 设置坐标轴刻度\n",
        "            if xticks is not None:\n",
        "                ax.set_xticks(xticks)\n",
        "            if yticks is not None:\n",
        "                ax.set_yticks(yticks)\n",
        "\n",
        "            # 仅在最后一行设置x轴标签\n",
        "            if i == num_rows - 1:\n",
        "                ax.set_xlabel(xlabel)\n",
        "            # 仅在第一列设置y轴标签\n",
        "            if j == 0:\n",
        "                ax.set_ylabel(ylabel)\n",
        "            # 设置标题（若提供）\n",
        "            if titles:\n",
        "                ax.set_title(titles[j])\n",
        "\n",
        "    # 添加颜色条（调整大小适配子图）\n",
        "    fig.colorbar(pcm, ax=axes, shrink=0.6)\n",
        "\n",
        "    # 显示图像\n",
        "    plt.tight_layout()  # 自动调整布局避免重叠\n",
        "    plt.show()\n",
        "# attention_weights = tf.reshape(tf.eye(10), (1, 1, 10, 10))\n",
        "attention_weights = tf.reshape(tokenized, (1, 1, 10, 10))\n",
        "\n",
        "show_heatmaps(attention_weights, xlabel='Keys', ylabel='Queries')"
      ],
      "metadata": {
        "id": "5uh46_o6kUAu",
        "outputId": "a058fdeb-527a-4632-f7ac-324bea8df605",
        "colab": {
          "base_uri": "https://localhost:8080/",
          "height": 328
        }
      },
      "execution_count": 6,
      "outputs": [
        {
          "output_type": "stream",
          "name": "stderr",
          "text": [
            "/tmp/ipython-input-3345520701.py:8: DeprecationWarning: `set_matplotlib_formats` is deprecated since IPython 7.23, directly use `matplotlib_inline.backend_inline.set_matplotlib_formats()`\n",
            "  display.set_matplotlib_formats('svg')\n",
            "/tmp/ipython-input-3345520701.py:49: UserWarning: This figure includes Axes that are not compatible with tight_layout, so results might be incorrect.\n",
            "  plt.tight_layout()  # 自动调整布局避免重叠\n"
          ]
        },
        {
          "output_type": "display_data",
          "data": {
            "text/plain": [
              "<Figure size 250x250 with 2 Axes>"
            ],
            "image/svg+xml": "<?xml version=\"1.0\" encoding=\"utf-8\" standalone=\"no\"?>\n<!DOCTYPE svg PUBLIC \"-//W3C//DTD SVG 1.1//EN\"\n  \"http://www.w3.org/Graphics/SVG/1.1/DTD/svg11.dtd\">\n<svg xmlns:xlink=\"http://www.w3.org/1999/xlink\" width=\"177.66925pt\" height=\"175.68625pt\" viewBox=\"0 0 177.66925 175.68625\" xmlns=\"http://www.w3.org/2000/svg\" version=\"1.1\">\n <metadata>\n  <rdf:RDF xmlns:dc=\"http://purl.org/dc/elements/1.1/\" xmlns:cc=\"http://creativecommons.org/ns#\" xmlns:rdf=\"http://www.w3.org/1999/02/22-rdf-syntax-ns#\">\n   <cc:Work>\n    <dc:type rdf:resource=\"http://purl.org/dc/dcmitype/StillImage\"/>\n    <dc:date>2025-10-21T07:00:33.723879</dc:date>\n    <dc:format>image/svg+xml</dc:format>\n    <dc:creator>\n     <cc:Agent>\n      <dc:title>Matplotlib v3.10.0, https://matplotlib.org/</dc:title>\n     </cc:Agent>\n    </dc:creator>\n   </cc:Work>\n  </rdf:RDF>\n </metadata>\n <defs>\n  <style type=\"text/css\">*{stroke-linejoin: round; stroke-linecap: butt}</style>\n </defs>\n <g id=\"figure_1\">\n  <g id=\"patch_1\">\n   <path d=\"M 0 175.68625 \nL 177.66925 175.68625 \nL 177.66925 0 \nL 0 0 \nz\n\" style=\"fill: #ffffff\"/>\n  </g>\n  <g id=\"axes_1\">\n   <g id=\"patch_2\">\n    <path d=\"M 34.240625 138.13 \nL 165.170625 138.13 \nL 165.170625 7.2 \nL 34.240625 7.2 \nz\n\" style=\"fill: #ffffff\"/>\n   </g>\n   <g clip-path=\"url(#pb6b028ef01)\">\n    <image xlink:href=\"data:image/png;base64,\niVBORw0KGgoAAAANSUhEUgAAALYAAAC2CAYAAAB08HcEAAACU0lEQVR4nO3dsU0DQRRF0TFyBiXQHy6JAimAxPHSgoMvM757TgGjDa5+9rSX4/57LNjE7f1z5J23kVdgM8ImSdgkCZskYZMkbJKETZKwSRI2ScImSdgkCZskYZMkbJKETZKwSRI2Sdf//gAappYv3/efkXdcbJKETZKwSRI2ScImSdgkCZskYZMkbJKETZKwSRI2ScImSdgkCZskYZMkbJIsaE5savWy1tzyZYqLTZKwSRI2ScImSdgkCZskYZMkbJKETZKwSRI2ScImSdgkCZskYZMkbJKETZKwSTINe0G7/choRy42ScImSdgkCZskYZMkbJKETZKwSRI2ScImSdgkCZskYZMkbJKETZKwSRI2SRY0T2T58jwuNknCJknYJAmbJGGTJGyShE2SsEkSNknCJknYJAmbJGGTJGyShE2SsEkSNkkWNA+wfHk9LjZJwiZJ2CQJmyRhkyRskoRNkrBJEjZJwiZJ2CQJmyRhkyRskoRNkrBJEjZJ6QWN5ct5udgkCZskYZMkbJKETZKwSRI2ScImSdgkCZskYZMkbJKETZKwSRI2ScImSdgkbbegmVq9rGX5cmYuNknCJknYJAmbJGGTJGyShE2SsEkSNknCJknYJAmbJGGTJGyShE2SsEkSNknCJmlsGuZHRuzExSZJ2CQJmyRhkyRskoRNkrBJEjZJwiZJ2CQJmyRhkyRskoRNkrBJEjZJwibp8rU+jomHLF/YiYtNkrBJEjZJwiZJ2CQJmyRhkyRskoRNkrBJEjZJwiZJ2CQJmyRhkyRskoRN0h+yXyHQqat4BQAAAABJRU5ErkJggg==\" id=\"image9cf260e115\" transform=\"scale(1 -1) translate(0 -131.04)\" x=\"34.240625\" y=\"-7.09\" width=\"131.04\" height=\"131.04\"/>\n   </g>\n   <g id=\"matplotlib.axis_1\">\n    <g id=\"xtick_1\">\n     <g id=\"line2d_1\">\n      <defs>\n       <path id=\"mf772b4d4a8\" d=\"M 0 0 \nL 0 3.5 \n\" style=\"stroke: #000000; stroke-width: 0.8\"/>\n      </defs>\n      <g>\n       <use xlink:href=\"#mf772b4d4a8\" x=\"40.787125\" y=\"138.13\" style=\"stroke: #000000; stroke-width: 0.8\"/>\n      </g>\n     </g>\n     <g id=\"text_1\">\n      <text style=\"font-size: 10px; font-family: 'DejaVu Sans', 'Bitstream Vera Sans', 'Computer Modern Sans Serif', 'Lucida Grande', 'Verdana', 'Geneva', 'Lucid', 'Arial', 'Helvetica', 'Avant Garde', sans-serif; text-anchor: middle\" x=\"40.787125\" y=\"152.728437\" transform=\"rotate(-0 40.787125 152.728437)\">0.0</text>\n     </g>\n    </g>\n    <g id=\"xtick_2\">\n     <g id=\"line2d_2\">\n      <g>\n       <use xlink:href=\"#mf772b4d4a8\" x=\"73.519625\" y=\"138.13\" style=\"stroke: #000000; stroke-width: 0.8\"/>\n      </g>\n     </g>\n     <g id=\"text_2\">\n      <text style=\"font-size: 10px; font-family: 'DejaVu Sans', 'Bitstream Vera Sans', 'Computer Modern Sans Serif', 'Lucida Grande', 'Verdana', 'Geneva', 'Lucid', 'Arial', 'Helvetica', 'Avant Garde', sans-serif; text-anchor: middle\" x=\"73.519625\" y=\"152.728437\" transform=\"rotate(-0 73.519625 152.728437)\">2.5</text>\n     </g>\n    </g>\n    <g id=\"xtick_3\">\n     <g id=\"line2d_3\">\n      <g>\n       <use xlink:href=\"#mf772b4d4a8\" x=\"106.252125\" y=\"138.13\" style=\"stroke: #000000; stroke-width: 0.8\"/>\n      </g>\n     </g>\n     <g id=\"text_3\">\n      <text style=\"font-size: 10px; font-family: 'DejaVu Sans', 'Bitstream Vera Sans', 'Computer Modern Sans Serif', 'Lucida Grande', 'Verdana', 'Geneva', 'Lucid', 'Arial', 'Helvetica', 'Avant Garde', sans-serif; text-anchor: middle\" x=\"106.252125\" y=\"152.728437\" transform=\"rotate(-0 106.252125 152.728437)\">5.0</text>\n     </g>\n    </g>\n    <g id=\"xtick_4\">\n     <g id=\"line2d_4\">\n      <g>\n       <use xlink:href=\"#mf772b4d4a8\" x=\"138.984625\" y=\"138.13\" style=\"stroke: #000000; stroke-width: 0.8\"/>\n      </g>\n     </g>\n     <g id=\"text_4\">\n      <text style=\"font-size: 10px; font-family: 'DejaVu Sans', 'Bitstream Vera Sans', 'Computer Modern Sans Serif', 'Lucida Grande', 'Verdana', 'Geneva', 'Lucid', 'Arial', 'Helvetica', 'Avant Garde', sans-serif; text-anchor: middle\" x=\"138.984625\" y=\"152.728437\" transform=\"rotate(-0 138.984625 152.728437)\">7.5</text>\n     </g>\n    </g>\n    <g id=\"text_5\">\n     <text style=\"font-size: 10px; font-family: 'DejaVu Sans', 'Bitstream Vera Sans', 'Computer Modern Sans Serif', 'Lucida Grande', 'Verdana', 'Geneva', 'Lucid', 'Arial', 'Helvetica', 'Avant Garde', sans-serif; text-anchor: middle\" x=\"99.705625\" y=\"166.406563\" transform=\"rotate(-0 99.705625 166.406563)\">Keys</text>\n    </g>\n   </g>\n   <g id=\"matplotlib.axis_2\">\n    <g id=\"ytick_1\">\n     <g id=\"line2d_5\">\n      <defs>\n       <path id=\"m19eb00dc5b\" d=\"M 0 0 \nL -3.5 0 \n\" style=\"stroke: #000000; stroke-width: 0.8\"/>\n      </defs>\n      <g>\n       <use xlink:href=\"#m19eb00dc5b\" x=\"34.240625\" y=\"13.7465\" style=\"stroke: #000000; stroke-width: 0.8\"/>\n      </g>\n     </g>\n     <g id=\"text_6\">\n      <text style=\"font-size: 10px; font-family: 'DejaVu Sans', 'Bitstream Vera Sans', 'Computer Modern Sans Serif', 'Lucida Grande', 'Verdana', 'Geneva', 'Lucid', 'Arial', 'Helvetica', 'Avant Garde', sans-serif; text-anchor: end\" x=\"27.240625\" y=\"17.545719\" transform=\"rotate(-0 27.240625 17.545719)\">0</text>\n     </g>\n    </g>\n    <g id=\"ytick_2\">\n     <g id=\"line2d_6\">\n      <g>\n       <use xlink:href=\"#m19eb00dc5b\" x=\"34.240625\" y=\"39.9325\" style=\"stroke: #000000; stroke-width: 0.8\"/>\n      </g>\n     </g>\n     <g id=\"text_7\">\n      <text style=\"font-size: 10px; font-family: 'DejaVu Sans', 'Bitstream Vera Sans', 'Computer Modern Sans Serif', 'Lucida Grande', 'Verdana', 'Geneva', 'Lucid', 'Arial', 'Helvetica', 'Avant Garde', sans-serif; text-anchor: end\" x=\"27.240625\" y=\"43.731719\" transform=\"rotate(-0 27.240625 43.731719)\">2</text>\n     </g>\n    </g>\n    <g id=\"ytick_3\">\n     <g id=\"line2d_7\">\n      <g>\n       <use xlink:href=\"#m19eb00dc5b\" x=\"34.240625\" y=\"66.1185\" style=\"stroke: #000000; stroke-width: 0.8\"/>\n      </g>\n     </g>\n     <g id=\"text_8\">\n      <text style=\"font-size: 10px; font-family: 'DejaVu Sans', 'Bitstream Vera Sans', 'Computer Modern Sans Serif', 'Lucida Grande', 'Verdana', 'Geneva', 'Lucid', 'Arial', 'Helvetica', 'Avant Garde', sans-serif; text-anchor: end\" x=\"27.240625\" y=\"69.917719\" transform=\"rotate(-0 27.240625 69.917719)\">4</text>\n     </g>\n    </g>\n    <g id=\"ytick_4\">\n     <g id=\"line2d_8\">\n      <g>\n       <use xlink:href=\"#m19eb00dc5b\" x=\"34.240625\" y=\"92.3045\" style=\"stroke: #000000; stroke-width: 0.8\"/>\n      </g>\n     </g>\n     <g id=\"text_9\">\n      <text style=\"font-size: 10px; font-family: 'DejaVu Sans', 'Bitstream Vera Sans', 'Computer Modern Sans Serif', 'Lucida Grande', 'Verdana', 'Geneva', 'Lucid', 'Arial', 'Helvetica', 'Avant Garde', sans-serif; text-anchor: end\" x=\"27.240625\" y=\"96.103719\" transform=\"rotate(-0 27.240625 96.103719)\">6</text>\n     </g>\n    </g>\n    <g id=\"ytick_5\">\n     <g id=\"line2d_9\">\n      <g>\n       <use xlink:href=\"#m19eb00dc5b\" x=\"34.240625\" y=\"118.4905\" style=\"stroke: #000000; stroke-width: 0.8\"/>\n      </g>\n     </g>\n     <g id=\"text_10\">\n      <text style=\"font-size: 10px; font-family: 'DejaVu Sans', 'Bitstream Vera Sans', 'Computer Modern Sans Serif', 'Lucida Grande', 'Verdana', 'Geneva', 'Lucid', 'Arial', 'Helvetica', 'Avant Garde', sans-serif; text-anchor: end\" x=\"27.240625\" y=\"122.289719\" transform=\"rotate(-0 27.240625 122.289719)\">8</text>\n     </g>\n    </g>\n    <g id=\"text_11\">\n     <text style=\"font-size: 10px; font-family: 'DejaVu Sans', 'Bitstream Vera Sans', 'Computer Modern Sans Serif', 'Lucida Grande', 'Verdana', 'Geneva', 'Lucid', 'Arial', 'Helvetica', 'Avant Garde', sans-serif; text-anchor: middle\" x=\"14.798438\" y=\"72.665\" transform=\"rotate(-90 14.798438 72.665)\">Queries</text>\n    </g>\n   </g>\n   <g id=\"patch_3\">\n    <path d=\"M 34.240625 138.13 \nL 34.240625 7.2 \n\" style=\"fill: none; stroke: #000000; stroke-width: 0.8; stroke-linejoin: miter; stroke-linecap: square\"/>\n   </g>\n   <g id=\"patch_4\">\n    <path d=\"M 165.170625 138.13 \nL 165.170625 7.2 \n\" style=\"fill: none; stroke: #000000; stroke-width: 0.8; stroke-linejoin: miter; stroke-linecap: square\"/>\n   </g>\n   <g id=\"patch_5\">\n    <path d=\"M 34.240625 138.13 \nL 165.170625 138.13 \n\" style=\"fill: none; stroke: #000000; stroke-width: 0.8; stroke-linejoin: miter; stroke-linecap: square\"/>\n   </g>\n   <g id=\"patch_6\">\n    <path d=\"M 34.240625 7.2 \nL 165.170625 7.2 \n\" style=\"fill: none; stroke: #000000; stroke-width: 0.8; stroke-linejoin: miter; stroke-linecap: square\"/>\n   </g>\n  </g>\n  <g id=\"axes_2\">\n   <g id=\"patch_7\">\n    <path d=\"M 137.045625 123.975 \nL 141.203625 123.975 \nL 141.203625 40.815 \nL 137.045625 40.815 \nz\n\" style=\"fill: #ffffff\"/>\n   </g>\n   <image xlink:href=\"data:image/png;base64,\niVBORw0KGgoAAAANSUhEUgAAAAYAAABzCAYAAAC7I3M6AAAAxElEQVR4nLWVQQ7DMAgEqeT/f7WXnhLW9AMMEhbO0atlYImTT/y+YcmzLHZ2XglbJKSIE0Ywo93uwYBtoZ+VUHhzIdDBWZHgwDgoRV3xBmlAjqQfIk/u9+HIGJyD4e3VMpxe6oMQqdQcvLgf9+GDjHjpRgkZVAqFOXiIPvro8D6jKyBcDsKmnxcKQgdFIhTacO7K7zNwQEdHUFfpceXI92e2HB35uS1Z18EMKgVRjQ4IKy8c2NXDjDE4Ogo4ODTX1QNL/wN7qRBObE1I+gAAAABJRU5ErkJggg==\" id=\"image3da31b2a17\" transform=\"scale(1 -1) translate(0 -82.8)\" x=\"136.8\" y=\"-41.04\" width=\"4.32\" height=\"82.8\"/>\n   <g id=\"matplotlib.axis_3\"/>\n   <g id=\"matplotlib.axis_4\">\n    <g id=\"ytick_6\">\n     <g id=\"line2d_10\">\n      <defs>\n       <path id=\"mbe9b27dbc0\" d=\"M 0 0 \nL 3.5 0 \n\" style=\"stroke: #000000; stroke-width: 0.8\"/>\n      </defs>\n      <g>\n       <use xlink:href=\"#mbe9b27dbc0\" x=\"141.203625\" y=\"123.975\" style=\"stroke: #000000; stroke-width: 0.8\"/>\n      </g>\n     </g>\n     <g id=\"text_12\">\n      <text style=\"font-size: 10px; font-family: 'DejaVu Sans', 'Bitstream Vera Sans', 'Computer Modern Sans Serif', 'Lucida Grande', 'Verdana', 'Geneva', 'Lucid', 'Arial', 'Helvetica', 'Avant Garde', sans-serif; text-anchor: start\" x=\"148.203625\" y=\"127.774219\" transform=\"rotate(-0 148.203625 127.774219)\">0.00</text>\n     </g>\n    </g>\n    <g id=\"ytick_7\">\n     <g id=\"line2d_11\">\n      <g>\n       <use xlink:href=\"#mbe9b27dbc0\" x=\"141.203625\" y=\"103.185\" style=\"stroke: #000000; stroke-width: 0.8\"/>\n      </g>\n     </g>\n     <g id=\"text_13\">\n      <text style=\"font-size: 10px; font-family: 'DejaVu Sans', 'Bitstream Vera Sans', 'Computer Modern Sans Serif', 'Lucida Grande', 'Verdana', 'Geneva', 'Lucid', 'Arial', 'Helvetica', 'Avant Garde', sans-serif; text-anchor: start\" x=\"148.203625\" y=\"106.984219\" transform=\"rotate(-0 148.203625 106.984219)\">0.25</text>\n     </g>\n    </g>\n    <g id=\"ytick_8\">\n     <g id=\"line2d_12\">\n      <g>\n       <use xlink:href=\"#mbe9b27dbc0\" x=\"141.203625\" y=\"82.395\" style=\"stroke: #000000; stroke-width: 0.8\"/>\n      </g>\n     </g>\n     <g id=\"text_14\">\n      <text style=\"font-size: 10px; font-family: 'DejaVu Sans', 'Bitstream Vera Sans', 'Computer Modern Sans Serif', 'Lucida Grande', 'Verdana', 'Geneva', 'Lucid', 'Arial', 'Helvetica', 'Avant Garde', sans-serif; text-anchor: start\" x=\"148.203625\" y=\"86.194219\" transform=\"rotate(-0 148.203625 86.194219)\">0.50</text>\n     </g>\n    </g>\n    <g id=\"ytick_9\">\n     <g id=\"line2d_13\">\n      <g>\n       <use xlink:href=\"#mbe9b27dbc0\" x=\"141.203625\" y=\"61.605\" style=\"stroke: #000000; stroke-width: 0.8\"/>\n      </g>\n     </g>\n     <g id=\"text_15\">\n      <text style=\"font-size: 10px; font-family: 'DejaVu Sans', 'Bitstream Vera Sans', 'Computer Modern Sans Serif', 'Lucida Grande', 'Verdana', 'Geneva', 'Lucid', 'Arial', 'Helvetica', 'Avant Garde', sans-serif; text-anchor: start\" x=\"148.203625\" y=\"65.404219\" transform=\"rotate(-0 148.203625 65.404219)\">0.75</text>\n     </g>\n    </g>\n    <g id=\"ytick_10\">\n     <g id=\"line2d_14\">\n      <g>\n       <use xlink:href=\"#mbe9b27dbc0\" x=\"141.203625\" y=\"40.815\" style=\"stroke: #000000; stroke-width: 0.8\"/>\n      </g>\n     </g>\n     <g id=\"text_16\">\n      <text style=\"font-size: 10px; font-family: 'DejaVu Sans', 'Bitstream Vera Sans', 'Computer Modern Sans Serif', 'Lucida Grande', 'Verdana', 'Geneva', 'Lucid', 'Arial', 'Helvetica', 'Avant Garde', sans-serif; text-anchor: start\" x=\"148.203625\" y=\"44.614219\" transform=\"rotate(-0 148.203625 44.614219)\">1.00</text>\n     </g>\n    </g>\n   </g>\n   <g id=\"LineCollection_1\"/>\n   <g id=\"patch_8\">\n    <path d=\"M 137.045625 123.975 \nL 139.124625 123.975 \nL 141.203625 123.975 \nL 141.203625 40.815 \nL 139.124625 40.815 \nL 137.045625 40.815 \nL 137.045625 123.975 \nz\n\" style=\"fill: none; stroke: #000000; stroke-width: 0.8; stroke-linejoin: miter; stroke-linecap: square\"/>\n   </g>\n  </g>\n </g>\n <defs>\n  <clipPath id=\"pb6b028ef01\">\n   <rect x=\"34.240625\" y=\"7.2\" width=\"130.93\" height=\"130.93\"/>\n  </clipPath>\n </defs>\n</svg>\n"
          },
          "metadata": {}
        }
      ]
    },
    {
      "cell_type": "markdown",
      "source": [],
      "metadata": {
        "id": "PGqW40vSkTqO"
      }
    },
    {
      "cell_type": "markdown",
      "metadata": {
        "id": "QMo3OnsGgLNK"
      },
      "source": [
        "## 2. Features and resources\n",
        "\n",
        "Trax includes basic models (like [ResNet](https://github.com/google/trax/blob/master/trax/models/resnet.py#L70), [LSTM](https://github.com/google/trax/blob/master/trax/models/rnn.py#L100), [Transformer](https://github.com/google/trax/blob/master/trax/models/transformer.py#L189) and RL algorithms\n",
        "(like [REINFORCE](https://github.com/google/trax/blob/master/trax/rl/training.py#L244), [A2C](https://github.com/google/trax/blob/master/trax/rl/actor_critic_joint.py#L458), [PPO](https://github.com/google/trax/blob/master/trax/rl/actor_critic_joint.py#L209)). It is also actively used for research and includes\n",
        "new models like the [Reformer](https://github.com/google/trax/tree/master/trax/models/reformer) and new RL algorithms like [AWR](https://arxiv.org/abs/1910.00177). Trax has bindings to a large number of deep learning datasets, including\n",
        "[Tensor2Tensor](https://github.com/tensorflow/tensor2tensor) and [TensorFlow datasets](https://www.tensorflow.org/datasets/catalog/overview).\n",
        "\n",
        "\n",
        "You can use Trax either as a library from your own python scripts and notebooks\n",
        "or as a binary from the shell, which can be more convenient for training large models.\n",
        "It runs without any changes on CPUs, GPUs and TPUs.\n",
        "\n",
        "* [API docs](https://trax-ml.readthedocs.io/en/latest/)\n",
        "* [chat with us](https://gitter.im/trax-ml/community)\n",
        "* [open an issue](https://github.com/google/trax/issues)\n",
        "* subscribe to [trax-discuss](https://groups.google.com/u/1/g/trax-discuss) for news\n",
        "\n"
      ]
    },
    {
      "cell_type": "markdown",
      "metadata": {
        "id": "8wgfJyhdihfR"
      },
      "source": [
        "## 3. Walkthrough\n",
        "\n",
        "You can learn here how Trax works, how to create new models and how to train them on your own data."
      ]
    },
    {
      "cell_type": "markdown",
      "metadata": {
        "id": "yM12hgQnp4qo"
      },
      "source": [
        "### Tensors and Fast Math\n",
        "\n",
        "The basic units flowing through Trax models are *tensors* - multi-dimensional arrays, sometimes also known as numpy arrays, due to the most widely used package for tensor operations -- `numpy`. You should take a look at the [numpy guide](https://numpy.org/doc/stable/user/quickstart.html) if you don't know how to operate on tensors: Trax also uses the numpy API for that.\n",
        "\n",
        "In Trax we want numpy operations to run very fast, making use of GPUs and TPUs to accelerate them. We also want to automatically compute gradients of functions on tensors. This is done in the `trax.fastmath` package thanks to its backends -- [JAX](https://github.com/google/jax) and [TensorFlow numpy](https://tensorflow.org)."
      ]
    },
    {
      "cell_type": "code",
      "execution_count": null,
      "metadata": {
        "id": "kSauPt0NUl_o",
        "outputId": "c7288312-767d-4344-91ae-95ebf386ce57"
      },
      "outputs": [
        {
          "name": "stdout",
          "output_type": "stream",
          "text": [
            "matrix =\n",
            "[[1 2 3]\n",
            " [4 5 6]\n",
            " [7 8 9]]\n",
            "vector = [1. 1. 1.]\n",
            "product = [12. 15. 18.]\n",
            "tanh(product) = [0.99999994 0.99999994 0.99999994]\n"
          ]
        }
      ],
      "source": [
        "from trax.fastmath import numpy as fastnp\n",
        "trax.fastmath.use_backend('jax')  # Can be 'jax' or 'tensorflow-numpy'.\n",
        "\n",
        "matrix = fastnp.array([[1, 2, 3], [4, 5, 6], [7, 8, 9]])\n",
        "print(f'matrix =\\n{matrix}')\n",
        "vector = fastnp.ones(3)\n",
        "print(f'vector = {vector}')\n",
        "product = fastnp.dot(vector, matrix)\n",
        "print(f'product = {product}')\n",
        "tanh = fastnp.tanh(product)\n",
        "print(f'tanh(product) = {tanh}')"
      ]
    },
    {
      "cell_type": "markdown",
      "metadata": {
        "id": "snLYtU6OsKU2"
      },
      "source": [
        "Gradients can be calculated using `trax.fastmath.grad`."
      ]
    },
    {
      "cell_type": "code",
      "execution_count": null,
      "metadata": {
        "id": "cqjYoxPEu8PG",
        "outputId": "04739509-9d3a-446d-d088-84882b8917bc"
      },
      "outputs": [
        {
          "name": "stdout",
          "output_type": "stream",
          "text": [
            "grad(2x^2) at 1 = 4.0\n",
            "grad(2x^2) at -2 = -8.0\n"
          ]
        }
      ],
      "source": [
        "def f(x):\n",
        "  return 2.0 * x * x\n",
        "\n",
        "grad_f = trax.fastmath.grad(f)\n",
        "\n",
        "print(f'grad(2x^2) at 1 = {grad_f(1.0)}')\n",
        "print(f'grad(2x^2) at -2 = {grad_f(-2.0)}')"
      ]
    },
    {
      "cell_type": "markdown",
      "metadata": {
        "id": "p-wtgiWNseWw"
      },
      "source": [
        "### Layers\n",
        "\n",
        "Layers are basic building blocks of Trax models. You will learn all about them in the [layers intro](https://trax-ml.readthedocs.io/en/latest/notebooks/layers_intro.html) but for now, just take a look at the implementation of one core Trax layer, `Embedding`:\n",
        "\n",
        "```\n",
        "class Embedding(base.Layer):\n",
        "  \"\"\"Trainable layer that maps discrete tokens/IDs to vectors.\"\"\"\n",
        "\n",
        "  def __init__(self,\n",
        "               vocab_size,\n",
        "               d_feature,\n",
        "               kernel_initializer=init.RandomNormalInitializer(1.0)):\n",
        "    \"\"\"Returns an embedding layer with given vocabulary size and vector size.\n",
        "\n",
        "    Args:\n",
        "      vocab_size: Size of the input vocabulary. The layer will assign a unique\n",
        "          vector to each id in `range(vocab_size)`.\n",
        "      d_feature: Dimensionality/depth of the output vectors.\n",
        "      kernel_initializer: Function that creates (random) initial vectors for\n",
        "          the embedding.\n",
        "    \"\"\"\n",
        "    super().__init__(name=f'Embedding_{vocab_size}_{d_feature}')\n",
        "    self._d_feature = d_feature  # feature dimensionality\n",
        "    self._vocab_size = vocab_size\n",
        "    self._kernel_initializer = kernel_initializer\n",
        "\n",
        "  def forward(self, x):\n",
        "    \"\"\"Returns embedding vectors corresponding to input token IDs.\n",
        "\n",
        "    Args:\n",
        "      x: Tensor of token IDs.\n",
        "\n",
        "    Returns:\n",
        "      Tensor of embedding vectors.\n",
        "    \"\"\"\n",
        "    return jnp.take(self.weights, x, axis=0, mode='clip')\n",
        "\n",
        "  def init_weights_and_state(self, input_signature):\n",
        "    \"\"\"Randomly initializes this layer's weights.\"\"\"\n",
        "    del input_signature\n",
        "    shape_w = (self._vocab_size, self._d_feature)\n",
        "    w = self._kernel_initializer(shape_w, self.rng)\n",
        "    self.weights = w\n",
        "```\n",
        "\n",
        "Layers with trainable weights like `Embedding` need to be initialized with the signature (shape and dtype) of the input, and then can be run by calling them.\n"
      ]
    },
    {
      "cell_type": "code",
      "execution_count": null,
      "metadata": {
        "id": "4MLSQsIiw9Aw",
        "outputId": "394efc9d-9e3c-4f8c-80c2-ce3b5a935e38"
      },
      "outputs": [
        {
          "name": "stdout",
          "output_type": "stream",
          "text": [
            "x = [ 0  1  2  3  4  5  6  7  8  9 10 11 12 13 14]\n",
            "shape of y = (15, 32)\n"
          ]
        }
      ],
      "source": [
        "from trax import layers as tl\n",
        "\n",
        "# Create an input tensor x.\n",
        "x = np.arange(15)\n",
        "print(f'x = {x}')\n",
        "\n",
        "# Create the embedding layer.\n",
        "embedding = tl.Embedding(vocab_size=20, d_feature=32)\n",
        "embedding.init(trax.shapes.signature(x))\n",
        "\n",
        "# Run the layer -- y = embedding(x).\n",
        "y = embedding(x)\n",
        "print(f'shape of y = {y.shape}')"
      ]
    },
    {
      "cell_type": "markdown",
      "metadata": {
        "id": "MgCPl9ZOyCJw"
      },
      "source": [
        "### Models\n",
        "\n",
        "Models in Trax are built from layers most often using the `Serial` and `Branch` combinators. You can read more about those combinators in the [layers intro](https://trax-ml.readthedocs.io/en/latest/notebooks/layers_intro.html) and\n",
        "see the code for many models in `trax/models/`, e.g., this is how the [Transformer Language Model](https://github.com/google/trax/blob/master/trax/models/transformer.py#L167) is implemented. Below is an example of how to build a sentiment classification model."
      ]
    },
    {
      "cell_type": "code",
      "execution_count": null,
      "metadata": {
        "id": "WoSz5plIyXOU",
        "outputId": "f94c84c4-3224-4231-8879-4a68f328b89e"
      },
      "outputs": [
        {
          "name": "stdout",
          "output_type": "stream",
          "text": [
            "Serial[\n",
            "  Embedding_8192_256\n",
            "  Mean\n",
            "  Dense_2\n",
            "]\n"
          ]
        }
      ],
      "source": [
        "model = tl.Serial(\n",
        "    tl.Embedding(vocab_size=8192, d_feature=256),\n",
        "    tl.Mean(axis=1),  # Average on axis 1 (length of sentence).\n",
        "    tl.Dense(2),      # Classify 2 classes.\n",
        ")\n",
        "\n",
        "# You can print model structure.\n",
        "print(model)"
      ]
    },
    {
      "cell_type": "markdown",
      "metadata": {
        "id": "FcnIjFLD0Ju1"
      },
      "source": [
        "### Data\n",
        "\n",
        "To train your model, you need data. In Trax, data streams are represented as python iterators, so you can call `next(data_stream)` and get a tuple, e.g., `(inputs, targets)`. Trax allows you to use [TensorFlow Datasets](https://www.tensorflow.org/datasets) easily and you can also get an iterator from your own text file using the standard `open('my_file.txt')`."
      ]
    },
    {
      "cell_type": "code",
      "execution_count": null,
      "metadata": {
        "id": "pKITF1jR0_Of",
        "outputId": "44a73b25-668d-4f85-9133-ebb0f5edd191"
      },
      "outputs": [
        {
          "name": "stdout",
          "output_type": "stream",
          "text": [
            "(b\"This was an absolutely terrible movie. Don't be lured in by Christopher Walken or Michael Ironside. Both are great actors, but this must simply be their worst role in history. Even their great acting could not redeem this movie's ridiculous storyline. This movie is an early nineties US propaganda piece. The most pathetic scenes were those when the Columbian rebels were making their cases for revolutions. Maria Conchita Alonso appeared phony, and her pseudo-love affair with Walken was nothing but a pathetic emotional plug in a movie that was devoid of any real meaning. I am disappointed that there are movies like this, ruining actor's like Christopher Walken's good name. I could barely sit through it.\", 0)\n"
          ]
        }
      ],
      "source": [
        "train_stream = trax.data.TFDS('imdb_reviews', keys=('text', 'label'), train=True)()\n",
        "eval_stream = trax.data.TFDS('imdb_reviews', keys=('text', 'label'), train=False)()\n",
        "print(next(train_stream))  # See one example."
      ]
    },
    {
      "cell_type": "markdown",
      "metadata": {
        "id": "fRGj4Skm1kL4"
      },
      "source": [
        "Using the `trax.data` module you can create input processing pipelines, e.g., to tokenize and shuffle your data. You create data pipelines using `trax.data.Serial` and they are functions that you apply to streams to create processed streams."
      ]
    },
    {
      "cell_type": "code",
      "execution_count": null,
      "metadata": {
        "id": "AV5wrgjZ10yU",
        "outputId": "82b8e3bc-7812-4cd3-a669-401fef29f1c0"
      },
      "outputs": [
        {
          "name": "stdout",
          "output_type": "stream",
          "text": [
            "shapes = [(8, 2048), (8,), (8,)]\n"
          ]
        }
      ],
      "source": [
        "data_pipeline = trax.data.Serial(\n",
        "    trax.data.Tokenize(vocab_file='en_8k.subword', keys=[0]),\n",
        "    trax.data.Shuffle(),\n",
        "    trax.data.FilterByLength(max_length=2048, length_keys=[0]),\n",
        "    trax.data.BucketByLength(boundaries=[  32, 128, 512, 2048],\n",
        "                             batch_sizes=[512, 128,  32,    8, 1],\n",
        "                             length_keys=[0]),\n",
        "    trax.data.AddLossWeights()\n",
        "  )\n",
        "train_batches_stream = data_pipeline(train_stream)\n",
        "eval_batches_stream = data_pipeline(eval_stream)\n",
        "example_batch = next(train_batches_stream)\n",
        "print(f'shapes = {[x.shape for x in example_batch]}')  # Check the shapes."
      ]
    },
    {
      "cell_type": "markdown",
      "metadata": {
        "id": "l25krioP2twf"
      },
      "source": [
        "### Supervised training\n",
        "\n",
        "When you have the model and the data, use `trax.supervised.training` to define training and eval tasks and create a training loop. The Trax training loop optimizes training and will create TensorBoard logs and model checkpoints for you."
      ]
    },
    {
      "cell_type": "code",
      "execution_count": null,
      "metadata": {
        "id": "d6bIKUO-3Cw8",
        "outputId": "038e6ad5-0d2f-442b-ffa1-ed431dc1d2e0"
      },
      "outputs": [
        {
          "name": "stdout",
          "output_type": "stream",
          "text": [
            "\n",
            "Step      1: Total number of trainable weights: 2097666\n",
            "Step      1: Ran 1 train steps in 1.15 secs\n",
            "Step      1: train WeightedCategoryCrossEntropy |  0.69192106\n",
            "Step      1: eval  WeightedCategoryCrossEntropy |  0.69349981\n",
            "Step      1: eval      WeightedCategoryAccuracy |  0.50312500\n",
            "\n",
            "Step    500: Ran 499 train steps in 10.62 secs\n",
            "Step    500: train WeightedCategoryCrossEntropy |  0.50712883\n",
            "Step    500: eval  WeightedCategoryCrossEntropy |  0.42969493\n",
            "Step    500: eval      WeightedCategoryAccuracy |  0.81406250\n",
            "\n",
            "Step   1000: Ran 500 train steps in 8.89 secs\n",
            "Step   1000: train WeightedCategoryCrossEntropy |  0.35916388\n",
            "Step   1000: eval  WeightedCategoryCrossEntropy |  0.41775789\n",
            "Step   1000: eval      WeightedCategoryAccuracy |  0.79531250\n",
            "\n",
            "Step   1500: Ran 500 train steps in 9.13 secs\n",
            "Step   1500: train WeightedCategoryCrossEntropy |  0.35241464\n",
            "Step   1500: eval  WeightedCategoryCrossEntropy |  0.35194683\n",
            "Step   1500: eval      WeightedCategoryAccuracy |  0.85117188\n",
            "\n",
            "Step   2000: Ran 500 train steps in 8.54 secs\n",
            "Step   2000: train WeightedCategoryCrossEntropy |  0.29129386\n",
            "Step   2000: eval  WeightedCategoryCrossEntropy |  0.37591279\n",
            "Step   2000: eval      WeightedCategoryAccuracy |  0.84062500\n"
          ]
        }
      ],
      "source": [
        "from trax.supervised import training\n",
        "\n",
        "# Training task.\n",
        "train_task = training.TrainTask(\n",
        "    labeled_data=train_batches_stream,\n",
        "    loss_layer=tl.WeightedCategoryCrossEntropy(),\n",
        "    optimizer=trax.optimizers.Adam(0.01),\n",
        "    n_steps_per_checkpoint=500,\n",
        ")\n",
        "\n",
        "# Evaluaton task.\n",
        "eval_task = training.EvalTask(\n",
        "    labeled_data=eval_batches_stream,\n",
        "    metrics=[tl.WeightedCategoryCrossEntropy(), tl.WeightedCategoryAccuracy()],\n",
        "    n_eval_batches=20  # For less variance in eval numbers.\n",
        ")\n",
        "\n",
        "# Training loop saves checkpoints to output_dir.\n",
        "output_dir = os.path.expanduser('~/output_dir/')\n",
        "!rm -rf {output_dir}\n",
        "training_loop = training.Loop(model,\n",
        "                              train_task,\n",
        "                              eval_tasks=[eval_task],\n",
        "                              output_dir=output_dir)\n",
        "\n",
        "# Run 2000 steps (batches).\n",
        "training_loop.run(2000)"
      ]
    },
    {
      "cell_type": "markdown",
      "metadata": {
        "id": "-aCkIu3x686C"
      },
      "source": [
        "After training the model, run it like any layer to get results."
      ]
    },
    {
      "cell_type": "code",
      "execution_count": null,
      "metadata": {
        "id": "yuPu37Lp7GST",
        "outputId": "fdc4d832-2f1d-4aee-87b5-9c9dc1238503"
      },
      "outputs": [
        {
          "name": "stdout",
          "output_type": "stream",
          "text": [
            "example input_str: There are a few aspects to Park's movies, and in particular Wallace & Gromit, that I would say make them so great. The first is subtlety and observation, the flagship of which is the character of Gromit. He doesn't speak, he doesn't make any noise, all he has are his eyes, brow, and body posture, and with these he commands the film. Park manages to give us everything we need from this silent character through his expression. The comedy and the emotion is conveyed through the subtlest of movements and it works superbly well.<br /><br />Watching the movie you have to be aware of the entire screen. Normally you'll be guided to things in the movies, the screen won't be cluttered too much, there won't be many things to take your eyes away from the main clue or action. Park seems to need to look the other way with his movies. He throws extra content at his audience, there's action in the background, to the side of the screen, even off screen, and there's just about always something in the foreground to catch your eye. His movies are about multiple viewing and discovery, they're layered with jokes and ancillary action.<br /><br />Throughout this film there are layers of things happening on screen, jokes in the foreground maybe on a jar label and background shadows that give away action. You can imagine that for Park the movies has always been an event, and the movies he loves are ones which he wants to watch again and again. This is what shows in his movies, and in through his most beloved characters.<br /><br />Then there are the bizarre and wacky inventions which Wallace make, something which is reflected in the storyline and the twists and turns of the plot, everything is bizarre and off the wall, yet it seems so perfectly normal in this world. You can imagine that inside Park is the mind of Wallace.<br /><br />There's also one more thing that make these movies so unique, and that's the modelling and precise hand animation. I must admit I was concerned when I knew Dreamworks was involved in the making of this movie, and I thought that they would bring their computer animation experience to the forefront. What I was scared of was Wallace & Gromit becoming CGI entities, or at the smallest, CGI being used to clean up the feel that the modelling brought to the movie.<br /><br />Not so. You can still see thumbprints and toolmarks on the characters, and far from distracting from the movie, this just adds so much real feeling to it and a feeling of physical depth to the characters and the scene on screen.<br /><br />So what of the movie? Well I must say that the plot twist was something I had thought about well before the film was in the cinema and it came as no surprise, but that did not affect my enjoyment one little bit. Actually watching the twist unfold and the comic timing of the discovery and reactions was everything, and it had me just as sucked in as if it was a thriller, yet all the time I was laughing.<br /><br />Watching the movie was fascinating in various ways. To see the animation completed, how wild the inventions are, how Wallace is going to get into trouble and Gromit get him out, where all the cross references are in the movie, and where all the jokes are! I must admit afterwards talking with my friends I couldn't believe how much I had missed.<br /><br />There's something different in this movie than with the others, there's a new level of adult humour in here, and I don't mean rude jokes (although there are a couple that are just so British you can't help laughing), I mean jokes that simply fly over kids heads but slap adults in the face. The kind you are used to seeing come out of somewhere like Pixar. This just adds even more appeal to the movie.<br /><br />Okay though, let me try and be a bit negative here. I didn't notice the voices in this movie, you know how you usually listen to the actors and see if you can recognise them? Well I was just too wrapped up in the movie to care or to notice who they were...okay, that's not negative. Let me try again. The main plot wasn't as strong and gripping as I'd expected, and I found myself being caught up in the side stories and the characters themselves...again...that's not a bad thing, the film was just so much rich entertainment.<br /><br />I honestly can't think of a bad thing to say about this movie, probably the worst thing I could say is that the title sequence at the end is quite repetitive...until the final title! Really, that's the worst I can say.<br /><br />The story is a lot of fun, well set-up, well written, well executed. There's lot's of fantastic characters in here, not just Wallace & Gromit. There's so much happening on screen, so many references and jokes (check out the dresses of Lady Tottingham), cheese jokes everywhere, jokes for all the family. The characters are superbly absorbing and you'll find that you've taken to them before you realise. There's just so much in this movie for everyone.<br /><br />There's so much I could say and write about, but I know it will quickly turn into a backslapping exercise for Park and Aardman, it would also just turn into a series of \"this bit was really funny\" and \"there's a bit when...\", and what I would rather do is tell you that this is a superb movie, to go see it, and to experience the whole thing for yourselves. I will say though that the bunnies are excellent!<pad><pad><pad><pad><pad><pad><pad><pad><pad><pad><pad><pad><pad><pad><pad><pad><pad><pad><pad><pad><pad><pad><pad><pad><pad><pad><pad><pad><pad><pad><pad><pad><pad><pad><pad><pad><pad><pad><pad><pad><pad><pad><pad><pad><pad><pad><pad><pad><pad><pad><pad><pad><pad><pad><pad><pad><pad><pad><pad><pad><pad><pad><pad><pad><pad><pad><pad><pad><pad><pad><pad><pad><pad><pad><pad><pad><pad><pad><pad><pad><pad><pad><pad><pad><pad><pad><pad><pad><pad><pad><pad><pad><pad><pad><pad><pad><pad><pad><pad><pad><pad><pad><pad><pad><pad><pad><pad><pad><pad><pad><pad><pad><pad><pad><pad><pad><pad><pad><pad><pad><pad><pad><pad><pad><pad><pad><pad><pad><pad><pad><pad><pad><pad><pad><pad><pad><pad><pad><pad><pad><pad><pad><pad><pad><pad><pad><pad><pad><pad><pad><pad><pad><pad><pad><pad><pad><pad><pad><pad><pad><pad><pad><pad><pad><pad><pad><pad><pad><pad><pad><pad><pad><pad><pad><pad><pad><pad><pad><pad><pad><pad><pad><pad><pad><pad><pad><pad><pad><pad><pad><pad><pad><pad><pad><pad><pad><pad><pad><pad><pad><pad><pad><pad><pad><pad><pad><pad><pad><pad><pad><pad><pad><pad><pad><pad><pad><pad><pad><pad><pad><pad><pad><pad><pad><pad><pad><pad><pad><pad><pad><pad><pad><pad><pad><pad><pad><pad><pad><pad><pad><pad><pad><pad><pad><pad><pad><pad><pad><pad><pad><pad><pad><pad><pad><pad><pad><pad><pad><pad><pad><pad><pad><pad><pad><pad><pad><pad><pad><pad><pad><pad><pad><pad><pad><pad><pad><pad><pad><pad><pad><pad><pad><pad><pad><pad><pad><pad><pad><pad><pad><pad><pad><pad><pad><pad><pad><pad><pad><pad><pad><pad><pad><pad><pad><pad><pad><pad><pad><pad><pad><pad><pad><pad><pad><pad><pad><pad><pad><pad><pad><pad><pad><pad><pad><pad><pad><pad><pad><pad><pad><pad><pad><pad><pad><pad><pad><pad><pad><pad><pad><pad><pad><pad><pad><pad><pad><pad><pad><pad><pad><pad><pad><pad><pad><pad><pad><pad><pad><pad><pad><pad><pad><pad><pad><pad><pad><pad><pad><pad><pad><pad><pad><pad><pad><pad><pad><pad><pad><pad><pad><pad><pad><pad><pad><pad><pad><pad><pad><pad><pad><pad><pad><pad><pad><pad><pad><pad><pad><pad><pad><pad><pad><pad><pad><pad><pad><pad><pad>\n",
            "Model returned sentiment probabilities: [[0.36765265 2.7904649 ]]\n"
          ]
        }
      ],
      "source": [
        "example_input = next(eval_batches_stream)[0][0]\n",
        "example_input_str = trax.data.detokenize(example_input, vocab_file='en_8k.subword')\n",
        "print(f'example input_str: {example_input_str}')\n",
        "sentiment_log_probs = model(example_input[None, :])  # Add batch dimension.\n",
        "print(f'Model returned sentiment probabilities: {np.exp(sentiment_log_probs)}')"
      ]
    }
  ],
  "metadata": {
    "colab": {
      "name": "Trax Quick Intro",
      "provenance": [],
      "gpuType": "T4"
    },
    "kernelspec": {
      "display_name": "Python 3",
      "name": "python3"
    },
    "accelerator": "GPU"
  },
  "nbformat": 4,
  "nbformat_minor": 0
}